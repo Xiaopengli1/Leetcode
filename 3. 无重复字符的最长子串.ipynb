{
 "cells": [
  {
   "cell_type": "code",
   "execution_count": 162,
   "metadata": {},
   "outputs": [],
   "source": [
    "def lengthOfLongestSubstring(s):\n",
    "    if not s :return 0\n",
    "    else:\n",
    "        temp=s[0]\n",
    "        m=1\n",
    "        for i in range(1,len(s)):\n",
    "            if s[i] in temp:\n",
    "                if s[i]==temp[len(temp)-1]:\n",
    "                    m= max(m,len(temp))\n",
    "                    temp=s[i]\n",
    "                else:\n",
    "                    for j in range(len(temp)):\n",
    "                        if s[i] == temp[j]:\n",
    "                            temp = temp[j+1:]+s[i]\n",
    "                            break\n",
    "\n",
    "            else :\n",
    "                temp += s[i]\n",
    "                m= max(m,len(temp))\n",
    "    return m"
   ]
  },
  {
   "cell_type": "code",
   "execution_count": 183,
   "metadata": {},
   "outputs": [],
   "source": [
    "def lengthOfLongestSubstring(s):\n",
    "    if not s :return 0\n",
    "    left=0\n",
    "    #len = end-start+1\n",
    "    s1 = set()\n",
    "    m=0\n",
    "    for i in range(len(s)):\n",
    "        while s[i] in s1:\n",
    "            s1.remove(s[left])\n",
    "            left+=1\n",
    "        s1.add(s[i])\n",
    "        print(s1)\n",
    "        m=max(m,len(s1))\n",
    "    return m"
   ]
  },
  {
   "cell_type": "code",
   "execution_count": 218,
   "metadata": {},
   "outputs": [],
   "source": [
    "def lengthOfLongestSubstring(s):\n",
    "    if not s:return 0\n",
    "    ref=dict()\n",
    "    m=0\n",
    "    left = 0\n",
    "    for i in range(len(s)):\n",
    "        if s[i] in ref:\n",
    "            if left>ref[s[i]]:\n",
    "                ref[s[i]]=i\n",
    "            else:\n",
    "                left = ref[s[i]]+1\n",
    "                ref[s[i]]=i\n",
    "\n",
    "        else:\n",
    "            ref[s[i]]=i\n",
    "        m = max(i-left+1,m)\n",
    "    return m"
   ]
  }
 ],
 "metadata": {
  "kernelspec": {
   "display_name": "Python 3",
   "language": "python",
   "name": "python3"
  },
  "language_info": {
   "codemirror_mode": {
    "name": "ipython",
    "version": 3
   },
   "file_extension": ".py",
   "mimetype": "text/x-python",
   "name": "python",
   "nbconvert_exporter": "python",
   "pygments_lexer": "ipython3",
   "version": "3.7.6"
  }
 },
 "nbformat": 4,
 "nbformat_minor": 4
}
